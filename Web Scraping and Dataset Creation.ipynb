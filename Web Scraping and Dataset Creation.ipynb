{
 "cells": [
  {
   "cell_type": "code",
   "execution_count": 1,
   "id": "55676be4",
   "metadata": {},
   "outputs": [],
   "source": [
    "import urllib.request,sys,time\n",
    "from bs4 import BeautifulSoup\n",
    "import requests\n",
    "import pandas as pd"
   ]
  },
  {
   "cell_type": "code",
   "execution_count": 2,
   "id": "b2b085b4",
   "metadata": {},
   "outputs": [],
   "source": [
    "pagesToGet = 10"
   ]
  },
  {
   "cell_type": "code",
   "execution_count": 3,
   "id": "f2204bd6",
   "metadata": {},
   "outputs": [
    {
     "name": "stdout",
     "output_type": "stream",
     "text": [
      "processing page : 1\n",
      "Status code for https://www.politifact.com/factchecks/list/?page=1:  200\n",
      "30\n",
      "processing page : 2\n",
      "Status code for https://www.politifact.com/factchecks/list/?page=2:  200\n",
      "30\n",
      "processing page : 3\n",
      "Status code for https://www.politifact.com/factchecks/list/?page=3:  200\n",
      "30\n",
      "processing page : 4\n",
      "Status code for https://www.politifact.com/factchecks/list/?page=4:  200\n",
      "30\n",
      "processing page : 5\n",
      "Status code for https://www.politifact.com/factchecks/list/?page=5:  200\n",
      "30\n",
      "processing page : 6\n",
      "Status code for https://www.politifact.com/factchecks/list/?page=6:  200\n",
      "30\n",
      "processing page : 7\n",
      "Status code for https://www.politifact.com/factchecks/list/?page=7:  200\n",
      "30\n",
      "processing page : 8\n",
      "Status code for https://www.politifact.com/factchecks/list/?page=8:  200\n",
      "30\n",
      "processing page : 9\n",
      "Status code for https://www.politifact.com/factchecks/list/?page=9:  200\n",
      "30\n",
      "processing page : 10\n",
      "Status code for https://www.politifact.com/factchecks/list/?page=10:  200\n",
      "30\n"
     ]
    },
    {
     "data": {
      "text/html": [
       "<div>\n",
       "<style scoped>\n",
       "    .dataframe tbody tr th:only-of-type {\n",
       "        vertical-align: middle;\n",
       "    }\n",
       "\n",
       "    .dataframe tbody tr th {\n",
       "        vertical-align: top;\n",
       "    }\n",
       "\n",
       "    .dataframe thead th {\n",
       "        text-align: right;\n",
       "    }\n",
       "</style>\n",
       "<table border=\"1\" class=\"dataframe\">\n",
       "  <thead>\n",
       "    <tr style=\"text-align: right;\">\n",
       "      <th></th>\n",
       "      <th>Statement</th>\n",
       "      <th>Link</th>\n",
       "      <th>Date</th>\n",
       "      <th>Source</th>\n",
       "      <th>Label</th>\n",
       "    </tr>\n",
       "  </thead>\n",
       "  <tbody>\n",
       "    <tr>\n",
       "      <th>0</th>\n",
       "      <td>Former President Donald Trump issued a stateme...</td>\n",
       "      <td>https://www.politifact.com/factchecks/2023/mar...</td>\n",
       "      <td>arch 21, 2023</td>\n",
       "      <td>Viral image</td>\n",
       "      <td>false</td>\n",
       "    </tr>\n",
       "    <tr>\n",
       "      <th>1</th>\n",
       "      <td>Joe Biden was the first president in 100 years...</td>\n",
       "      <td>https://www.politifact.com/factchecks/2023/mar...</td>\n",
       "      <td>arch 21, 2023</td>\n",
       "      <td>Instagram posts</td>\n",
       "      <td>pants-fire</td>\n",
       "    </tr>\n",
       "    <tr>\n",
       "      <th>2</th>\n",
       "      <td>Elon Musk tweeted he would “buy Joint Commissi...</td>\n",
       "      <td>https://www.politifact.com/factchecks/2023/mar...</td>\n",
       "      <td>arch 20, 2023</td>\n",
       "      <td>Viral image</td>\n",
       "      <td>false</td>\n",
       "    </tr>\n",
       "    <tr>\n",
       "      <th>3</th>\n",
       "      <td>Photo shows Magic Johnson donating blood “to h...</td>\n",
       "      <td>https://www.politifact.com/factchecks/2023/mar...</td>\n",
       "      <td>arch 20, 2023</td>\n",
       "      <td>Viral image</td>\n",
       "      <td>false</td>\n",
       "    </tr>\n",
       "    <tr>\n",
       "      <th>4</th>\n",
       "      <td>Former President Donald Trump tweeted, “The st...</td>\n",
       "      <td>https://www.politifact.com/factchecks/2023/mar...</td>\n",
       "      <td>arch 20, 2023</td>\n",
       "      <td>Viral image</td>\n",
       "      <td>false</td>\n",
       "    </tr>\n",
       "  </tbody>\n",
       "</table>\n",
       "</div>"
      ],
      "text/plain": [
       "                                           Statement  \\\n",
       "0  Former President Donald Trump issued a stateme...   \n",
       "1  Joe Biden was the first president in 100 years...   \n",
       "2  Elon Musk tweeted he would “buy Joint Commissi...   \n",
       "3  Photo shows Magic Johnson donating blood “to h...   \n",
       "4  Former President Donald Trump tweeted, “The st...   \n",
       "\n",
       "                                                Link           Date  \\\n",
       "0  https://www.politifact.com/factchecks/2023/mar...  arch 21, 2023   \n",
       "1  https://www.politifact.com/factchecks/2023/mar...  arch 21, 2023   \n",
       "2  https://www.politifact.com/factchecks/2023/mar...  arch 20, 2023   \n",
       "3  https://www.politifact.com/factchecks/2023/mar...  arch 20, 2023   \n",
       "4  https://www.politifact.com/factchecks/2023/mar...  arch 20, 2023   \n",
       "\n",
       "            Source       Label  \n",
       "0      Viral image       false  \n",
       "1  Instagram posts  pants-fire  \n",
       "2      Viral image       false  \n",
       "3      Viral image       false  \n",
       "4      Viral image       false  "
      ]
     },
     "execution_count": 3,
     "metadata": {},
     "output_type": "execute_result"
    }
   ],
   "source": [
    "dframe=[]  \n",
    "for page in range(1,pagesToGet+1):\n",
    "    print('processing page :', page)\n",
    "    url = 'https://www.politifact.com/factchecks/list/?page='+str(page)\n",
    "       \n",
    "    \n",
    "    #an exception might be thrown, so the code should be in a try-except block\n",
    "    try:\n",
    "        #use the browser to get the url. This is suspicious command that might blow up.\n",
    "        page=requests.get(url)\n",
    "        print(f'Status code for {url}: ', page.status_code)\n",
    "        # this might throw an exception if something goes wrong.\n",
    "    \n",
    "    except Exception as e:                                   # this describes what to do if an exception is thrown\n",
    "        error_type, error_obj, error_info = sys.exc_info()      # get the exception information\n",
    "        print ('ERROR FOR LINK:',url)                          #print the link that cause the problem\n",
    "        print (error_type, 'Line:', error_info.tb_lineno)     #print error info and line that threw the exception\n",
    "        continue                                              #ignore this page. Abandon this and go back.\n",
    "    time.sleep(2)   \n",
    "    \n",
    "    soup=BeautifulSoup(page.text,'html.parser')\n",
    "    \n",
    "    frame=[]\n",
    "    links=soup.find_all('li',attrs={'class':'o-listicle__item'})\n",
    "    print(len(links))\n",
    "    filename=\"NEWS.csv\"\n",
    "    f=open(filename,\"a+\", encoding = 'utf-8')\n",
    "    headers=\"Statement, Link, Date, Source, Label\\n\"\n",
    "    f.write(headers)\n",
    "    \n",
    "    for j in links:\n",
    "        Statement = j.find(\"div\",attrs={'class':'m-statement__quote'}).text.strip()\n",
    "        Link = \"https://www.politifact.com\"\n",
    "        Link += j.find(\"div\",attrs={'class':'m-statement__quote'}).find('a')['href'].strip()\n",
    "        Date = j.find('div',attrs={'class':'m-statement__body'}).find('footer').text[-14:-1].strip()\n",
    "        Source = j.find('div', attrs={'class':'m-statement__meta'}).find('a').text.strip()\n",
    "        Label = j.find('div', attrs ={'class':'m-statement__content'}).find('img',attrs={'class':'c-image__original'}).get('alt').strip()\n",
    "        frame.append((Statement,Link,Date,Source,Label))\n",
    "        f.write(Statement.replace(\",\",\"^\")+\",\"+Link+\",\"+Date.replace(\",\",\"^\")+\",\"+Source.replace(\",\",\"^\")+\",\"+Label.replace(\",\",\"^\")+\"\\n\")\n",
    "    dframe.extend(frame)\n",
    "\n",
    "f.close()\n",
    "data=pd.DataFrame(dframe, columns=['Statement','Link','Date','Source','Label'])\n",
    "data.head()"
   ]
  },
  {
   "cell_type": "code",
   "execution_count": 4,
   "id": "4a369f5a",
   "metadata": {},
   "outputs": [
    {
     "data": {
      "text/plain": [
       "(300, 5)"
      ]
     },
     "execution_count": 4,
     "metadata": {},
     "output_type": "execute_result"
    }
   ],
   "source": [
    "data.shape"
   ]
  },
  {
   "cell_type": "code",
   "execution_count": 5,
   "id": "7a896450",
   "metadata": {},
   "outputs": [],
   "source": [
    "df = pd.DataFrame(columns=['id', 'Links'])"
   ]
  },
  {
   "cell_type": "code",
   "execution_count": 6,
   "id": "94b4c47f",
   "metadata": {},
   "outputs": [],
   "source": [
    "df['id'] = range(0,300)"
   ]
  },
  {
   "cell_type": "code",
   "execution_count": 7,
   "id": "14ca8b43",
   "metadata": {},
   "outputs": [],
   "source": [
    "df['Links'] = data['Link']"
   ]
  },
  {
   "cell_type": "code",
   "execution_count": 8,
   "id": "a489ed81",
   "metadata": {},
   "outputs": [
    {
     "data": {
      "text/html": [
       "<div>\n",
       "<style scoped>\n",
       "    .dataframe tbody tr th:only-of-type {\n",
       "        vertical-align: middle;\n",
       "    }\n",
       "\n",
       "    .dataframe tbody tr th {\n",
       "        vertical-align: top;\n",
       "    }\n",
       "\n",
       "    .dataframe thead th {\n",
       "        text-align: right;\n",
       "    }\n",
       "</style>\n",
       "<table border=\"1\" class=\"dataframe\">\n",
       "  <thead>\n",
       "    <tr style=\"text-align: right;\">\n",
       "      <th></th>\n",
       "      <th>id</th>\n",
       "      <th>Links</th>\n",
       "    </tr>\n",
       "  </thead>\n",
       "  <tbody>\n",
       "    <tr>\n",
       "      <th>0</th>\n",
       "      <td>0</td>\n",
       "      <td>https://www.politifact.com/factchecks/2023/mar...</td>\n",
       "    </tr>\n",
       "    <tr>\n",
       "      <th>1</th>\n",
       "      <td>1</td>\n",
       "      <td>https://www.politifact.com/factchecks/2023/mar...</td>\n",
       "    </tr>\n",
       "    <tr>\n",
       "      <th>2</th>\n",
       "      <td>2</td>\n",
       "      <td>https://www.politifact.com/factchecks/2023/mar...</td>\n",
       "    </tr>\n",
       "    <tr>\n",
       "      <th>3</th>\n",
       "      <td>3</td>\n",
       "      <td>https://www.politifact.com/factchecks/2023/mar...</td>\n",
       "    </tr>\n",
       "    <tr>\n",
       "      <th>4</th>\n",
       "      <td>4</td>\n",
       "      <td>https://www.politifact.com/factchecks/2023/mar...</td>\n",
       "    </tr>\n",
       "  </tbody>\n",
       "</table>\n",
       "</div>"
      ],
      "text/plain": [
       "   id                                              Links\n",
       "0   0  https://www.politifact.com/factchecks/2023/mar...\n",
       "1   1  https://www.politifact.com/factchecks/2023/mar...\n",
       "2   2  https://www.politifact.com/factchecks/2023/mar...\n",
       "3   3  https://www.politifact.com/factchecks/2023/mar...\n",
       "4   4  https://www.politifact.com/factchecks/2023/mar..."
      ]
     },
     "execution_count": 8,
     "metadata": {},
     "output_type": "execute_result"
    }
   ],
   "source": [
    "df.head()"
   ]
  },
  {
   "cell_type": "code",
   "execution_count": 9,
   "id": "b26dce8c",
   "metadata": {},
   "outputs": [],
   "source": [
    "df.to_excel('Links.xlsx')"
   ]
  },
  {
   "cell_type": "code",
   "execution_count": null,
   "id": "b5ff635e",
   "metadata": {},
   "outputs": [],
   "source": []
  }
 ],
 "metadata": {
  "kernelspec": {
   "display_name": "Python 3 (ipykernel)",
   "language": "python",
   "name": "python3"
  },
  "language_info": {
   "codemirror_mode": {
    "name": "ipython",
    "version": 3
   },
   "file_extension": ".py",
   "mimetype": "text/x-python",
   "name": "python",
   "nbconvert_exporter": "python",
   "pygments_lexer": "ipython3",
   "version": "3.9.13"
  }
 },
 "nbformat": 4,
 "nbformat_minor": 5
}
